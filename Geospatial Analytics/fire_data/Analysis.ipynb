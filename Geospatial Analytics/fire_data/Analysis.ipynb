{
 "cells": [
  {
   "cell_type": "code",
   "execution_count": 1,
   "id": "ddcd882d-d605-4c01-a147-464a8cf5e13e",
   "metadata": {},
   "outputs": [],
   "source": [
    "import urllib.request\n",
    "import pandas as pd\n",
    "import folium\n",
    "from folium import plugins\n",
    "import requests\n",
    "import geopandas as gpd\n",
    "from zipfile import ZipFile"
   ]
  },
  {
   "cell_type": "markdown",
   "id": "2215d44f-c64e-4ea6-b666-d4aabf503e4b",
   "metadata": {},
   "source": [
    "## [Data Source](https://firms.modaps.eosdis.nasa.gov/active_fire/#firms-txt)"
   ]
  },
  {
   "cell_type": "code",
   "execution_count": 2,
   "id": "b9ad8f9c-cea0-465a-89d6-f6e0322e6a9a",
   "metadata": {},
   "outputs": [
    {
     "name": "stdout",
     "output_type": "stream",
     "text": [
      "File downloaded successfully.\n"
     ]
    }
   ],
   "source": [
    "\n",
    "url = \"https://firms.modaps.eosdis.nasa.gov/data/active_fire/modis-c6.1/csv/MODIS_C6_1_USA_contiguous_and_Hawaii_7d.csv\"  # URL of the file to download\n",
    "filename = \"data/downloaded_file.csv\"  # Name of the file to save\n",
    "\n",
    "try:\n",
    "    urllib.request.urlretrieve(url, filename)\n",
    "    print(\"File downloaded successfully.\")\n",
    "except Exception as e:\n",
    "    print(f\"An error occurred while downloading the file: {e}\")"
   ]
  },
  {
   "cell_type": "code",
   "execution_count": 3,
   "id": "1d8a52e6-a153-4699-bed6-c68d486394ec",
   "metadata": {},
   "outputs": [
    {
     "name": "stdout",
     "output_type": "stream",
     "text": [
      "CSV file loaded successfully.\n"
     ]
    }
   ],
   "source": [
    "try:\n",
    "    df = pd.read_csv(filename)\n",
    "    print(\"CSV file loaded successfully.\")\n",
    "    \n",
    "    # Perform operations on the dataframe here\n",
    "    \n",
    "except Exception as e:\n",
    "    print(f\"An error occurred while loading the CSV file: {e}\")\n"
   ]
  },
  {
   "cell_type": "code",
   "execution_count": 4,
   "id": "7960d504-7afd-44d1-b77c-fe4e35c22361",
   "metadata": {},
   "outputs": [
    {
     "name": "stdout",
     "output_type": "stream",
     "text": [
      "Shapefile downloaded successfully.\n",
      "Shapefile extracted successfully.\n",
      "Shapefile loaded into GeoPandas successfully.\n"
     ]
    }
   ],
   "source": [
    "url = \"https://firms.modaps.eosdis.nasa.gov/data/active_fire/modis-c6.1/shapes/zips/MODIS_C6_1_USA_contiguous_and_Hawaii_48h.zip\"\n",
    "zip_filename = \"data/downloaded_shapefile.zip\"\n",
    "shapefile_filename = \"data/MODIS_C6_1_USA_contiguous_and_Hawaii_48h.shp\"\n",
    "\n",
    "try:\n",
    "    # Download the zip file\n",
    "    response = requests.get(url)\n",
    "    with open(zip_filename, 'wb') as zip_file:\n",
    "        zip_file.write(response.content)\n",
    "    \n",
    "    print(\"Shapefile downloaded successfully.\")\n",
    "    \n",
    "    # Extract the shapefile from the zip file\n",
    "    with ZipFile(zip_filename, 'r') as zip_ref:\n",
    "        zip_ref.extractall('data/')\n",
    "    \n",
    "    print(\"Shapefile extracted successfully.\")\n",
    "    \n",
    "    # Read the shapefile into GeoPandas\n",
    "    gdf = gpd.read_file(shapefile_filename)\n",
    "    \n",
    "    print(\"Shapefile loaded into GeoPandas successfully.\")\n",
    "    \n",
    "    # Perform operations on the GeoDataFrame here\n",
    "    \n",
    "except Exception as e:\n",
    "    print(f\"An error occurred while downloading, extracting, or loading the shapefile: {e}\")\n"
   ]
  },
  {
   "cell_type": "code",
   "execution_count": null,
   "id": "1da45f3a-f0a2-4f3d-ac7e-ed93d8e58cf3",
   "metadata": {},
   "outputs": [],
   "source": [
    "# Create a Folium map centered on Chicago or your desired location\n",
    "fire_map = folium.Map(location=[41.8781, -87.6298], zoom_start=3, tiles='cartodbdark_matter', no_wrap=True, attr='')\n",
    "\n",
    "heat_data = [[[row['LATITUDE'],row['LONGITUDE']] for index,row in gdf.iterrows()]]\n",
    "\n",
    "# Iterate over the points in the GeoDataFrame\n",
    "for index, row in gdf.iterrows():\n",
    "    # Get the coordinates of the point\n",
    "    lat = row['LATITUDE']\n",
    "    lon = row['LONGITUDE']\n",
    "    \n",
    "    # Create a custom marker icon\n",
    "    custom_icon = folium.features.CustomIcon(icon_image='fire.png', icon_size=(30, 30))\n",
    "    \n",
    "    # Create a marker with the custom icon at the point's coordinates\n",
    "    marker = folium.Marker(location=[lat, lon], icon=custom_icon)\n",
    "    \n",
    "    # Add the marker to the map\n",
    "    marker.add_to(fire_map)\n",
    "\n",
    "\n",
    "# Add a CSS style to change the background color to black\n",
    "widget_style = \"\"\"\n",
    "<style>\n",
    "    body {\n",
    "        background-color: black !important;\n",
    "    }\n",
    "    @import url('https://fonts.googleapis.com/css2?family=Cinzel=swap');\n",
    "\n",
    "    .map-title {\n",
    "        color: white;\n",
    "        font-family: 'Cinzel', serif;\n",
    "        font-size: 20px;\n",
    "        text-align: center;\n",
    "    }\n",
    "</style>\n",
    "\"\"\"\n",
    "\n",
    "# Add the CSS style to the HTML output\n",
    "fire_map.get_root().html.add_child(folium.Element(widget_style))\n",
    "\n",
    "# Add a title to the map with the map-title class\n",
    "title_html = f'''\n",
    "             <h3 align=\"center\" class=\"map-title\"><b>2023 US Fires (MODIS - Last 48 hours) <br> (Last Updated: {pd.to_datetime(gdf.ACQ_DATE).max().date()})</b></h3>\n",
    "             '''\n",
    "fire_map.get_root().html.add_child(folium.Element(title_html))\n",
    "\n",
    "# Add a text annotation without a marker\n",
    "folium.map.Marker(\n",
    "    [30,-70],\n",
    "    icon=folium.DivIcon(\n",
    "        icon_size=(150, 30),\n",
    "        icon_anchor=(0, 0),\n",
    "        html='<div class=\"annotation\">Alshival\\'s Data Service<div class=\"subtext\">support@alshival.com</div></div>'\n",
    "    )\n",
    ").add_to(fire_map)\n",
    "css = \"\"\"\n",
    "<style>\n",
    "    @import url('https://fonts.googleapis.com/css2?family=Roboto&display=swap');\n",
    "\n",
    "    .annotation {\n",
    "        font-family: 'Roboto', sans-serif;\n",
    "        font-size: 14pt;\n",
    "        color: white;\n",
    "        background-color: #e74c3c;\n",
    "        padding: 8px 16px;\n",
    "        border-radius: 4px;\n",
    "        white-space: nowrap;\n",
    "        display: inline-block;\n",
    "        width: 250px;\n",
    "        text-align: center;\n",
    "    }\n",
    "    \n",
    "    .subtext {\n",
    "        font-family: 'Roboto', sans-serif;\n",
    "        font-size: 10pt;\n",
    "        color: white;\n",
    "        margin-top: 4px;\n",
    "        text-align: center;\n",
    "    }\n",
    "</style>\n",
    "\"\"\"\n",
    "# Add the CSS style to the map\n",
    "fire_map.get_root().html.add_child(folium.Element(css))\n",
    "# Create the footer HTML content\n",
    "footer_html = '''\n",
    "<div style=\"text-align: center; font-size: 12px; color: #999999;\">\n",
    "    Data is collected from Nasa's MODIS satellite. It shows 48-hours worth of data reported by the system. Data the system reports with least 65% confidence are mapped.\n",
    "</div>\n",
    "'''\n",
    "\n",
    "# Add the footer HTML to the map's HTML content\n",
    "fire_map.get_root().html.add_child(folium.Element(footer_html))\n",
    "fire_map.save(\"us_fires.html\")\n",
    "fire_map"
   ]
  }
 ],
 "metadata": {
  "kernelspec": {
   "display_name": "Python 3 (ipykernel)",
   "language": "python",
   "name": "python3"
  },
  "language_info": {
   "codemirror_mode": {
    "name": "ipython",
    "version": 3
   },
   "file_extension": ".py",
   "mimetype": "text/x-python",
   "name": "python",
   "nbconvert_exporter": "python",
   "pygments_lexer": "ipython3",
   "version": "3.9.2"
  }
 },
 "nbformat": 4,
 "nbformat_minor": 5
}
