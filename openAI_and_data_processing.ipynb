{
 "cells": [
  {
   "cell_type": "markdown",
   "id": "4c4af03b-4310-4ebb-b00e-d2896794444b",
   "metadata": {},
   "source": [
    "# Large Language Models: An Application in Data Processing"
   ]
  },
  {
   "cell_type": "markdown",
   "id": "b5acf5f4-5536-4753-a6a1-e73667c3dddc",
   "metadata": {},
   "source": [
    "Large Language Models (LLM) are more than just text generators. It was only in the past few years that we began to see larger LLMs appear that are capable of translating between languages. Here, I would like to discuss a few very simple applications in data processing. \n",
    "\n",
    "Unfortunately, there are not many open-source solutions out there that make processing data using LLMs, meaning that processing data using LLMs is still very much in its early stages.\n",
    "\n",
    "Let's start with setting up the code."
   ]
  },
  {
   "cell_type": "markdown",
   "id": "fd6a8783-931c-4c48-aa2d-09073f62666a",
   "metadata": {},
   "source": [
    "## Preamble\n",
    "\n",
    "First, we import the required packages for this document, and we will be using [openAi](https://openai.com/)'s davinci-003 model. You will need to sign up and get an api key.\n",
    "\n",
    "Set your gpt_api key as an environmental variable called gtp_api_key or just gpt_api. See instructions on how to do so. On current linux archictecutres, you can add this line to your .bashrc file.\n",
    "\n",
    "```\n",
    "export gtp_api_key=\"<YOUR KEY>\"\n",
    "```"
   ]
  },
  {
   "cell_type": "code",
   "execution_count": 1,
   "id": "3f93e8de-dd96-4b05-9455-9f7fc96ee869",
   "metadata": {},
   "outputs": [],
   "source": [
    "import regex\n",
    "import csv\n",
    "import pandas as pd\n",
    "import openai\n",
    "import json\n",
    "import sqlite3\n",
    "import time\n",
    "import os\n",
    "\n",
    "openai.api_key = os.environ['gpt_api']"
   ]
  },
  {
   "cell_type": "markdown",
   "id": "9e5b5802-c4b7-4a0a-83de-4490a1e8c6e4",
   "metadata": {},
   "source": [
    "### Code to process text using openAi"
   ]
  },
  {
   "cell_type": "markdown",
   "id": "f33ac708-09fa-4591-9810-cc0c4e440d80",
   "metadata": {},
   "source": [
    "This next function is something I put together quickly. It is a wrapper to speed up text processing with davinci."
   ]
  },
  {
   "cell_type": "code",
   "execution_count": 2,
   "id": "3d36780b-9d7f-4b12-b9ac-41b518dd29d1",
   "metadata": {},
   "outputs": [],
   "source": [
    "def process_text(command,data):\n",
    "    response = openai.Completion.create(\n",
    "        model=\"text-davinci-003\",\n",
    "        prompt=f\"\"\"Q: {command}:\"{data}\"\\nA:\"\"\",\n",
    "        temperature=.5,\n",
    "        max_tokens=120,\n",
    "        top_p=.5,\n",
    "        frequency_penalty=.5,\n",
    "        presence_penalty=0,\n",
    "        stop=[\"\\n\\n\"])\n",
    "    return response.choices[0].to_dict()['text']"
   ]
  },
  {
   "cell_type": "markdown",
   "id": "b0318240-a103-43a5-a546-a1a3159b4870",
   "metadata": {},
   "source": [
    "Here is an example:"
   ]
  },
  {
   "cell_type": "code",
   "execution_count": 3,
   "id": "ccfc5f91-f6ee-42d6-ae59-20bbdb08246d",
   "metadata": {},
   "outputs": [
    {
     "data": {
      "text/plain": [
       "' 1279 is the smallest number that can be written as the sum of two cubes in two different ways: 1279 = 13^3 + 10^3 = 9^3 + 12^3.'"
      ]
     },
     "execution_count": 3,
     "metadata": {},
     "output_type": "execute_result"
    }
   ],
   "source": [
    "process_text(\"tell me an interesting fact about this number\",\"1279\")"
   ]
  },
  {
   "cell_type": "markdown",
   "id": "d164f575-72a2-45aa-a9b9-dd8e7f815f0f",
   "metadata": {},
   "source": []
  },
  {
   "cell_type": "markdown",
   "id": "ea04780f-7fa1-4884-b12d-1f4f4a54583a",
   "metadata": {},
   "source": [
    "Srinivasa Ramanujan gave us that one already, davinci. I was hoping for something new, but thank you."
   ]
  },
  {
   "cell_type": "markdown",
   "id": "8c4c530a-cf67-433c-8e42-32b508109d1c",
   "metadata": {},
   "source": [
    "### Code to process text in a dataset using openAi\n",
    "Anyways, this next function allows us to run the `process_text` function iteratively over a dataset. We add a `time.sleep` to pause the script in order to avoid hitting openAi's rate limits."
   ]
  },
  {
   "cell_type": "code",
   "execution_count": 4,
   "id": "fe02517c-0d55-4c65-a93d-3a7ed6dc649c",
   "metadata": {},
   "outputs": [],
   "source": [
    "def process_data(command,data,input_var='text',output_var='response'):\n",
    "    outputs = []\n",
    "    for i in range(len(data)):\n",
    "        text = data.iloc[i][input_var]\n",
    "        output = process_text(command,text)\n",
    "        \n",
    "        outputs = outputs + [output]\n",
    "        \n",
    "        time.sleep(2)\n",
    "        \n",
    "    return pd.concat([data,pd.DataFrame({output_var:outputs})],axis=1)"
   ]
  },
  {
   "cell_type": "markdown",
   "id": "c7bd1774-d791-4b28-9d61-397688d55dc4",
   "metadata": {},
   "source": [
    "This last function is extremely useful. Let's look at a few examples.\n",
    "\n",
    "## Example 1: Categorizing Data\n",
    "Suppose we have the following dataframe and want to classify the items in the list as either `animal`, `flower`, `planet`, or `other`."
   ]
  },
  {
   "cell_type": "code",
   "execution_count": 5,
   "id": "b1ff81eb-031d-48c7-a14a-78ec91330ae5",
   "metadata": {},
   "outputs": [
    {
     "data": {
      "text/html": [
       "<div>\n",
       "<style scoped>\n",
       "    .dataframe tbody tr th:only-of-type {\n",
       "        vertical-align: middle;\n",
       "    }\n",
       "\n",
       "    .dataframe tbody tr th {\n",
       "        vertical-align: top;\n",
       "    }\n",
       "\n",
       "    .dataframe thead th {\n",
       "        text-align: right;\n",
       "    }\n",
       "</style>\n",
       "<table border=\"1\" class=\"dataframe\">\n",
       "  <thead>\n",
       "    <tr style=\"text-align: right;\">\n",
       "      <th></th>\n",
       "      <th>id</th>\n",
       "      <th>item</th>\n",
       "    </tr>\n",
       "  </thead>\n",
       "  <tbody>\n",
       "    <tr>\n",
       "      <th>0</th>\n",
       "      <td>1</td>\n",
       "      <td>cat</td>\n",
       "    </tr>\n",
       "    <tr>\n",
       "      <th>1</th>\n",
       "      <td>2</td>\n",
       "      <td>pen</td>\n",
       "    </tr>\n",
       "    <tr>\n",
       "      <th>2</th>\n",
       "      <td>3</td>\n",
       "      <td>whistle</td>\n",
       "    </tr>\n",
       "    <tr>\n",
       "      <th>3</th>\n",
       "      <td>4</td>\n",
       "      <td>orchid</td>\n",
       "    </tr>\n",
       "    <tr>\n",
       "      <th>4</th>\n",
       "      <td>5</td>\n",
       "      <td>Jupiter</td>\n",
       "    </tr>\n",
       "    <tr>\n",
       "      <th>5</th>\n",
       "      <td>6</td>\n",
       "      <td>car</td>\n",
       "    </tr>\n",
       "    <tr>\n",
       "      <th>6</th>\n",
       "      <td>7</td>\n",
       "      <td>dog</td>\n",
       "    </tr>\n",
       "    <tr>\n",
       "      <th>7</th>\n",
       "      <td>8</td>\n",
       "      <td>book</td>\n",
       "    </tr>\n",
       "    <tr>\n",
       "      <th>8</th>\n",
       "      <td>9</td>\n",
       "      <td>lotus</td>\n",
       "    </tr>\n",
       "  </tbody>\n",
       "</table>\n",
       "</div>"
      ],
      "text/plain": [
       "   id     item\n",
       "0   1      cat\n",
       "1   2      pen\n",
       "2   3  whistle\n",
       "3   4   orchid\n",
       "4   5  Jupiter\n",
       "5   6      car\n",
       "6   7      dog\n",
       "7   8     book\n",
       "8   9    lotus"
      ]
     },
     "execution_count": 5,
     "metadata": {},
     "output_type": "execute_result"
    }
   ],
   "source": [
    "data = pd.DataFrame({'id':[1,2,3,4,5,6,7,8,9],\n",
    "                     'item':['cat','pen','whistle','orchid','Jupiter','car','dog','book','lotus']})\n",
    "data"
   ]
  },
  {
   "cell_type": "markdown",
   "id": "a41585b0-d8a7-4784-9061-83de67c599a3",
   "metadata": {},
   "source": [
    "We can do this easily with davinci's help!"
   ]
  },
  {
   "cell_type": "code",
   "execution_count": 6,
   "id": "31ac8b59-7bf1-477c-b8a4-380176cdfa03",
   "metadata": {},
   "outputs": [
    {
     "data": {
      "text/html": [
       "<div>\n",
       "<style scoped>\n",
       "    .dataframe tbody tr th:only-of-type {\n",
       "        vertical-align: middle;\n",
       "    }\n",
       "\n",
       "    .dataframe tbody tr th {\n",
       "        vertical-align: top;\n",
       "    }\n",
       "\n",
       "    .dataframe thead th {\n",
       "        text-align: right;\n",
       "    }\n",
       "</style>\n",
       "<table border=\"1\" class=\"dataframe\">\n",
       "  <thead>\n",
       "    <tr style=\"text-align: right;\">\n",
       "      <th></th>\n",
       "      <th>id</th>\n",
       "      <th>item</th>\n",
       "      <th>response</th>\n",
       "    </tr>\n",
       "  </thead>\n",
       "  <tbody>\n",
       "    <tr>\n",
       "      <th>0</th>\n",
       "      <td>1</td>\n",
       "      <td>cat</td>\n",
       "      <td>Animal</td>\n",
       "    </tr>\n",
       "    <tr>\n",
       "      <th>1</th>\n",
       "      <td>2</td>\n",
       "      <td>pen</td>\n",
       "      <td>Other</td>\n",
       "    </tr>\n",
       "    <tr>\n",
       "      <th>2</th>\n",
       "      <td>3</td>\n",
       "      <td>whistle</td>\n",
       "      <td>Other</td>\n",
       "    </tr>\n",
       "    <tr>\n",
       "      <th>3</th>\n",
       "      <td>4</td>\n",
       "      <td>orchid</td>\n",
       "      <td>Flower</td>\n",
       "    </tr>\n",
       "    <tr>\n",
       "      <th>4</th>\n",
       "      <td>5</td>\n",
       "      <td>Jupiter</td>\n",
       "      <td>Planet</td>\n",
       "    </tr>\n",
       "    <tr>\n",
       "      <th>5</th>\n",
       "      <td>6</td>\n",
       "      <td>car</td>\n",
       "      <td>Other</td>\n",
       "    </tr>\n",
       "    <tr>\n",
       "      <th>6</th>\n",
       "      <td>7</td>\n",
       "      <td>dog</td>\n",
       "      <td>Animal</td>\n",
       "    </tr>\n",
       "    <tr>\n",
       "      <th>7</th>\n",
       "      <td>8</td>\n",
       "      <td>book</td>\n",
       "      <td>Other</td>\n",
       "    </tr>\n",
       "    <tr>\n",
       "      <th>8</th>\n",
       "      <td>9</td>\n",
       "      <td>lotus</td>\n",
       "      <td>Flower</td>\n",
       "    </tr>\n",
       "  </tbody>\n",
       "</table>\n",
       "</div>"
      ],
      "text/plain": [
       "   id     item response\n",
       "0   1      cat   Animal\n",
       "1   2      pen    Other\n",
       "2   3  whistle    Other\n",
       "3   4   orchid   Flower\n",
       "4   5  Jupiter   Planet\n",
       "5   6      car    Other\n",
       "6   7      dog   Animal\n",
       "7   8     book    Other\n",
       "8   9    lotus   Flower"
      ]
     },
     "execution_count": 6,
     "metadata": {},
     "output_type": "execute_result"
    }
   ],
   "source": [
    "process_data('classify this as either animal, flower, planet, or other',data,input_var='item')"
   ]
  },
  {
   "cell_type": "markdown",
   "id": "8697ffc7-a835-4d95-b17b-ff36aea3e405",
   "metadata": {},
   "source": [
    "# Example 2: Translating Text"
   ]
  },
  {
   "cell_type": "markdown",
   "id": "486f04aa-7788-47e2-b8c5-fb4be669b30c",
   "metadata": {},
   "source": [
    "Though openAi's davinci can translate text into a variety of languages, it does make mistakes which will require some manual intervention to fix, though when you have so many lines of text that need translating, a rough sketch of a translation can help speed up the process.\n",
    "\n",
    "For this example, let's look at the first 8 lines of King Samuel's Gospel of Mary Magdalene (KSGM). You can obtain the .csv file via the [**super_bible**](https://github.com/alshival/super_bible) project."
   ]
  },
  {
   "cell_type": "code",
   "execution_count": 7,
   "id": "578886e4-850f-439f-bdde-37650ab9a6b6",
   "metadata": {},
   "outputs": [
    {
     "data": {
      "text/html": [
       "<div>\n",
       "<style scoped>\n",
       "    .dataframe tbody tr th:only-of-type {\n",
       "        vertical-align: middle;\n",
       "    }\n",
       "\n",
       "    .dataframe tbody tr th {\n",
       "        vertical-align: top;\n",
       "    }\n",
       "\n",
       "    .dataframe thead th {\n",
       "        text-align: right;\n",
       "    }\n",
       "</style>\n",
       "<table border=\"1\" class=\"dataframe\">\n",
       "  <thead>\n",
       "    <tr style=\"text-align: right;\">\n",
       "      <th></th>\n",
       "      <th>index</th>\n",
       "      <th>testament</th>\n",
       "      <th>book</th>\n",
       "      <th>title</th>\n",
       "      <th>chapter</th>\n",
       "      <th>verse</th>\n",
       "      <th>text</th>\n",
       "      <th>version</th>\n",
       "      <th>language</th>\n",
       "    </tr>\n",
       "  </thead>\n",
       "  <tbody>\n",
       "    <tr>\n",
       "      <th>0</th>\n",
       "      <td>0</td>\n",
       "      <td>NT</td>\n",
       "      <td>777</td>\n",
       "      <td>Gospel of Mary Magdalene</td>\n",
       "      <td>1</td>\n",
       "      <td>0</td>\n",
       "      <td>[Pages 1 through 6 are missing]</td>\n",
       "      <td>KSGM</td>\n",
       "      <td>EN</td>\n",
       "    </tr>\n",
       "    <tr>\n",
       "      <th>1</th>\n",
       "      <td>1</td>\n",
       "      <td>NT</td>\n",
       "      <td>777</td>\n",
       "      <td>Gospel of Mary Magdalene</td>\n",
       "      <td>1</td>\n",
       "      <td>1</td>\n",
       "      <td>``Will matter be destroyed?''</td>\n",
       "      <td>KSGM</td>\n",
       "      <td>EN</td>\n",
       "    </tr>\n",
       "    <tr>\n",
       "      <th>2</th>\n",
       "      <td>2</td>\n",
       "      <td>NT</td>\n",
       "      <td>777</td>\n",
       "      <td>Gospel of Mary Magdalene</td>\n",
       "      <td>1</td>\n",
       "      <td>2</td>\n",
       "      <td>The Savior said:</td>\n",
       "      <td>KSGM</td>\n",
       "      <td>EN</td>\n",
       "    </tr>\n",
       "    <tr>\n",
       "      <th>3</th>\n",
       "      <td>3</td>\n",
       "      <td>NT</td>\n",
       "      <td>777</td>\n",
       "      <td>Gospel of Mary Magdalene</td>\n",
       "      <td>1</td>\n",
       "      <td>3</td>\n",
       "      <td>``Every form of nature, every creature, exists...</td>\n",
       "      <td>KSGM</td>\n",
       "      <td>EN</td>\n",
       "    </tr>\n",
       "    <tr>\n",
       "      <th>4</th>\n",
       "      <td>4</td>\n",
       "      <td>NT</td>\n",
       "      <td>777</td>\n",
       "      <td>Gospel of Mary Magdalene</td>\n",
       "      <td>1</td>\n",
       "      <td>4</td>\n",
       "      <td>Peter said to Him: ``As you have told us all a...</td>\n",
       "      <td>KSGM</td>\n",
       "      <td>EN</td>\n",
       "    </tr>\n",
       "    <tr>\n",
       "      <th>5</th>\n",
       "      <td>5</td>\n",
       "      <td>NT</td>\n",
       "      <td>777</td>\n",
       "      <td>Gospel of Mary Magdalene</td>\n",
       "      <td>1</td>\n",
       "      <td>5</td>\n",
       "      <td>The Savior answered:</td>\n",
       "      <td>KSGM</td>\n",
       "      <td>EN</td>\n",
       "    </tr>\n",
       "    <tr>\n",
       "      <th>6</th>\n",
       "      <td>6</td>\n",
       "      <td>NT</td>\n",
       "      <td>777</td>\n",
       "      <td>Gospel of Mary Magdalene</td>\n",
       "      <td>1</td>\n",
       "      <td>6</td>\n",
       "      <td>``There is no sin of the world. It is you who ...</td>\n",
       "      <td>KSGM</td>\n",
       "      <td>EN</td>\n",
       "    </tr>\n",
       "    <tr>\n",
       "      <th>7</th>\n",
       "      <td>7</td>\n",
       "      <td>NT</td>\n",
       "      <td>777</td>\n",
       "      <td>Gospel of Mary Magdalene</td>\n",
       "      <td>1</td>\n",
       "      <td>7</td>\n",
       "      <td>Because of this, the Lord comes into your mids...</td>\n",
       "      <td>KSGM</td>\n",
       "      <td>EN</td>\n",
       "    </tr>\n",
       "  </tbody>\n",
       "</table>\n",
       "</div>"
      ],
      "text/plain": [
       "   index testament  book                     title  chapter  verse  \\\n",
       "0      0        NT   777  Gospel of Mary Magdalene        1      0   \n",
       "1      1        NT   777  Gospel of Mary Magdalene        1      1   \n",
       "2      2        NT   777  Gospel of Mary Magdalene        1      2   \n",
       "3      3        NT   777  Gospel of Mary Magdalene        1      3   \n",
       "4      4        NT   777  Gospel of Mary Magdalene        1      4   \n",
       "5      5        NT   777  Gospel of Mary Magdalene        1      5   \n",
       "6      6        NT   777  Gospel of Mary Magdalene        1      6   \n",
       "7      7        NT   777  Gospel of Mary Magdalene        1      7   \n",
       "\n",
       "                                                text version language  \n",
       "0                    [Pages 1 through 6 are missing]    KSGM       EN  \n",
       "1                      ``Will matter be destroyed?''    KSGM       EN  \n",
       "2                                   The Savior said:    KSGM       EN  \n",
       "3  ``Every form of nature, every creature, exists...    KSGM       EN  \n",
       "4  Peter said to Him: ``As you have told us all a...    KSGM       EN  \n",
       "5                               The Savior answered:    KSGM       EN  \n",
       "6  ``There is no sin of the world. It is you who ...    KSGM       EN  \n",
       "7  Because of this, the Lord comes into your mids...    KSGM       EN  "
      ]
     },
     "execution_count": 7,
     "metadata": {},
     "output_type": "execute_result"
    }
   ],
   "source": [
    "ksgm = pd.read_csv('ksgm.csv').head(8)\n",
    "ksgm"
   ]
  },
  {
   "cell_type": "markdown",
   "id": "4b9ce01c-005f-4d1a-aa87-5eb7d2896406",
   "metadata": {},
   "source": [
    "Suppose we want to translate the text into French. We can do so easily by using the `process_data` function."
   ]
  },
  {
   "cell_type": "code",
   "execution_count": 8,
   "id": "1da4ebb1-208c-4be4-92bc-d55fa2ed6187",
   "metadata": {},
   "outputs": [
    {
     "data": {
      "text/html": [
       "<div>\n",
       "<style scoped>\n",
       "    .dataframe tbody tr th:only-of-type {\n",
       "        vertical-align: middle;\n",
       "    }\n",
       "\n",
       "    .dataframe tbody tr th {\n",
       "        vertical-align: top;\n",
       "    }\n",
       "\n",
       "    .dataframe thead th {\n",
       "        text-align: right;\n",
       "    }\n",
       "</style>\n",
       "<table border=\"1\" class=\"dataframe\">\n",
       "  <thead>\n",
       "    <tr style=\"text-align: right;\">\n",
       "      <th></th>\n",
       "      <th>index</th>\n",
       "      <th>testament</th>\n",
       "      <th>book</th>\n",
       "      <th>title</th>\n",
       "      <th>chapter</th>\n",
       "      <th>verse</th>\n",
       "      <th>text</th>\n",
       "      <th>version</th>\n",
       "      <th>language</th>\n",
       "      <th>response</th>\n",
       "    </tr>\n",
       "  </thead>\n",
       "  <tbody>\n",
       "    <tr>\n",
       "      <th>0</th>\n",
       "      <td>0</td>\n",
       "      <td>NT</td>\n",
       "      <td>777</td>\n",
       "      <td>Gospel of Mary Magdalene</td>\n",
       "      <td>1</td>\n",
       "      <td>0</td>\n",
       "      <td>[Pages 1 through 6 are missing]</td>\n",
       "      <td>KSGM</td>\n",
       "      <td>EN</td>\n",
       "      <td>\"[Les pages 1 à 6 manquent.]\"</td>\n",
       "    </tr>\n",
       "    <tr>\n",
       "      <th>1</th>\n",
       "      <td>1</td>\n",
       "      <td>NT</td>\n",
       "      <td>777</td>\n",
       "      <td>Gospel of Mary Magdalene</td>\n",
       "      <td>1</td>\n",
       "      <td>1</td>\n",
       "      <td>``Will matter be destroyed?''</td>\n",
       "      <td>KSGM</td>\n",
       "      <td>EN</td>\n",
       "      <td>``La matière sera-t-elle détruite ?''</td>\n",
       "    </tr>\n",
       "    <tr>\n",
       "      <th>2</th>\n",
       "      <td>2</td>\n",
       "      <td>NT</td>\n",
       "      <td>777</td>\n",
       "      <td>Gospel of Mary Magdalene</td>\n",
       "      <td>1</td>\n",
       "      <td>2</td>\n",
       "      <td>The Savior said:</td>\n",
       "      <td>KSGM</td>\n",
       "      <td>EN</td>\n",
       "      <td>Le Sauveur a dit :</td>\n",
       "    </tr>\n",
       "    <tr>\n",
       "      <th>3</th>\n",
       "      <td>3</td>\n",
       "      <td>NT</td>\n",
       "      <td>777</td>\n",
       "      <td>Gospel of Mary Magdalene</td>\n",
       "      <td>1</td>\n",
       "      <td>3</td>\n",
       "      <td>``Every form of nature, every creature, exists...</td>\n",
       "      <td>KSGM</td>\n",
       "      <td>EN</td>\n",
       "      <td>``Toute forme de la nature, chaque créature, ...</td>\n",
       "    </tr>\n",
       "    <tr>\n",
       "      <th>4</th>\n",
       "      <td>4</td>\n",
       "      <td>NT</td>\n",
       "      <td>777</td>\n",
       "      <td>Gospel of Mary Magdalene</td>\n",
       "      <td>1</td>\n",
       "      <td>4</td>\n",
       "      <td>Peter said to Him: ``As you have told us all a...</td>\n",
       "      <td>KSGM</td>\n",
       "      <td>EN</td>\n",
       "      <td>Peter lui a dit : « Comme vous nous avez tout...</td>\n",
       "    </tr>\n",
       "    <tr>\n",
       "      <th>5</th>\n",
       "      <td>5</td>\n",
       "      <td>NT</td>\n",
       "      <td>777</td>\n",
       "      <td>Gospel of Mary Magdalene</td>\n",
       "      <td>1</td>\n",
       "      <td>5</td>\n",
       "      <td>The Savior answered:</td>\n",
       "      <td>KSGM</td>\n",
       "      <td>EN</td>\n",
       "      <td>Le Sauveur a répondu :</td>\n",
       "    </tr>\n",
       "    <tr>\n",
       "      <th>6</th>\n",
       "      <td>6</td>\n",
       "      <td>NT</td>\n",
       "      <td>777</td>\n",
       "      <td>Gospel of Mary Magdalene</td>\n",
       "      <td>1</td>\n",
       "      <td>6</td>\n",
       "      <td>``There is no sin of the world. It is you who ...</td>\n",
       "      <td>KSGM</td>\n",
       "      <td>EN</td>\n",
       "      <td>Il n'y a pas de péché dans le monde. C'est vo...</td>\n",
       "    </tr>\n",
       "    <tr>\n",
       "      <th>7</th>\n",
       "      <td>7</td>\n",
       "      <td>NT</td>\n",
       "      <td>777</td>\n",
       "      <td>Gospel of Mary Magdalene</td>\n",
       "      <td>1</td>\n",
       "      <td>7</td>\n",
       "      <td>Because of this, the Lord comes into your mids...</td>\n",
       "      <td>KSGM</td>\n",
       "      <td>EN</td>\n",
       "      <td>En raison de cela, le Seigneur vient au milie...</td>\n",
       "    </tr>\n",
       "  </tbody>\n",
       "</table>\n",
       "</div>"
      ],
      "text/plain": [
       "   index testament  book                     title  chapter  verse  \\\n",
       "0      0        NT   777  Gospel of Mary Magdalene        1      0   \n",
       "1      1        NT   777  Gospel of Mary Magdalene        1      1   \n",
       "2      2        NT   777  Gospel of Mary Magdalene        1      2   \n",
       "3      3        NT   777  Gospel of Mary Magdalene        1      3   \n",
       "4      4        NT   777  Gospel of Mary Magdalene        1      4   \n",
       "5      5        NT   777  Gospel of Mary Magdalene        1      5   \n",
       "6      6        NT   777  Gospel of Mary Magdalene        1      6   \n",
       "7      7        NT   777  Gospel of Mary Magdalene        1      7   \n",
       "\n",
       "                                                text version language  \\\n",
       "0                    [Pages 1 through 6 are missing]    KSGM       EN   \n",
       "1                      ``Will matter be destroyed?''    KSGM       EN   \n",
       "2                                   The Savior said:    KSGM       EN   \n",
       "3  ``Every form of nature, every creature, exists...    KSGM       EN   \n",
       "4  Peter said to Him: ``As you have told us all a...    KSGM       EN   \n",
       "5                               The Savior answered:    KSGM       EN   \n",
       "6  ``There is no sin of the world. It is you who ...    KSGM       EN   \n",
       "7  Because of this, the Lord comes into your mids...    KSGM       EN   \n",
       "\n",
       "                                            response  \n",
       "0                      \"[Les pages 1 à 6 manquent.]\"  \n",
       "1              ``La matière sera-t-elle détruite ?''  \n",
       "2                                 Le Sauveur a dit :  \n",
       "3   ``Toute forme de la nature, chaque créature, ...  \n",
       "4   Peter lui a dit : « Comme vous nous avez tout...  \n",
       "5                             Le Sauveur a répondu :  \n",
       "6   Il n'y a pas de péché dans le monde. C'est vo...  \n",
       "7   En raison de cela, le Seigneur vient au milie...  "
      ]
     },
     "execution_count": 8,
     "metadata": {},
     "output_type": "execute_result"
    }
   ],
   "source": [
    "process_data('translate this into french',ksgm)"
   ]
  },
  {
   "cell_type": "markdown",
   "id": "1e215451-b071-487a-8aff-543c376062d6",
   "metadata": {},
   "source": [
    "Note that I left out the `input_var` variable. This is because in the function definition for `process_data`, you will see that `input_var='text'`, which happens to be the name of the column that I wish to process."
   ]
  },
  {
   "cell_type": "markdown",
   "id": "06820b80-39a4-4642-a2c4-c80fc9eb4d2e",
   "metadata": {},
   "source": [
    "# Example 3: Data Insight"
   ]
  },
  {
   "cell_type": "markdown",
   "id": "cd5837c8-fb8d-4fd8-8b5b-0d0ba918bc87",
   "metadata": {},
   "source": [
    "The process_text function is more verstatile than you think. It returns the text response from openAi's algorithm.\n",
    "\n",
    "You can the `process_text` function an entire dataset as well in order to gain insight."
   ]
  },
  {
   "cell_type": "code",
   "execution_count": 9,
   "id": "4038aafb-7340-4a1d-bfd4-baee68a5bfe0",
   "metadata": {},
   "outputs": [
    {
     "name": "stdout",
     "output_type": "stream",
     "text": [
      "   id     item\n",
      "0   1      cat\n",
      "1   2      pen\n",
      "2   3  whistle\n",
      "3   4   orchid\n",
      "4   5  Jupiter\n",
      "5   6      car\n",
      "6   7      dog\n",
      "7   8     book\n",
      "8   9    lotus\n",
      "\n",
      "\n"
     ]
    },
    {
     "data": {
      "text/plain": [
       "' item: animal (cat, dog), stationary (pen), instrument (whistle), planet (Jupiter), vehicle (car), plant (orchid, lotus), object (book)'"
      ]
     },
     "execution_count": 9,
     "metadata": {},
     "output_type": "execute_result"
    }
   ],
   "source": [
    "print(data)\n",
    "print('\\n')\n",
    "process_text('classify the item field in this dataset',data)"
   ]
  },
  {
   "cell_type": "markdown",
   "id": "365a292b-b257-4db1-9dd4-156c32f94c81",
   "metadata": {},
   "source": [
    "We could have also done the same with the KSGM dataset."
   ]
  },
  {
   "cell_type": "code",
   "execution_count": 10,
   "id": "64b02f13-b3ca-483c-8172-8034782fe367",
   "metadata": {},
   "outputs": [
    {
     "data": {
      "text/plain": [
       "' index testament livre titre chapitre verset texte version langue\\n0      0        NT   777  Évangile de Marie-Madeleine        1      0   \\n1      1        NT   777  Évangile de Marie-Madeleine        1      1   \\n2      2        NT   777  Évangile de Marie-Madeleine        1      2   \\n3      3        NT   777  Évangile de Marie-Madeleine        1      3   \\n4      4        NT   777'"
      ]
     },
     "execution_count": 10,
     "metadata": {},
     "output_type": "execute_result"
    }
   ],
   "source": [
    "process_text('translate the text field in this dataset into french', ksgm)"
   ]
  },
  {
   "cell_type": "markdown",
   "id": "9dd4d5df-7dee-43da-9357-f3b57b1d0b3f",
   "metadata": {},
   "source": [
    "This method is quicker than the iterative process above, though given that the output of these models is subject to change, I do not feel confident building code dependent on these outputs. We are at a crawling phase with these models."
   ]
  }
 ],
 "metadata": {
  "kernelspec": {
   "display_name": "Python 3 (ipykernel)",
   "language": "python",
   "name": "python3"
  },
  "language_info": {
   "codemirror_mode": {
    "name": "ipython",
    "version": 3
   },
   "file_extension": ".py",
   "mimetype": "text/x-python",
   "name": "python",
   "nbconvert_exporter": "python",
   "pygments_lexer": "ipython3",
   "version": "3.9.2"
  }
 },
 "nbformat": 4,
 "nbformat_minor": 5
}
